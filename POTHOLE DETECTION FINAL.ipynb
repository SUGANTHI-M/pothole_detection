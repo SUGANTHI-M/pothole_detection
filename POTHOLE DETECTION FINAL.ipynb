{
 "cells": [
  {
   "cell_type": "code",
   "execution_count": 1,
   "id": "264d3947",
   "metadata": {},
   "outputs": [],
   "source": [
    "import smtplib\n",
    "from email.mime.multipart import MIMEMultipart\n",
    "from email.mime.application import MIMEApplication\n",
    "from email.mime.text import MIMEText\n",
    "from email.mime.base import MIMEBase\n",
    "from email import encoders"
   ]
  },
  {
   "cell_type": "code",
   "execution_count": 4,
   "id": "e0c11f31",
   "metadata": {},
   "outputs": [],
   "source": [
    "#importing necessary libraries\n",
    "import openpyxl\n",
    "import cv2 as cv\n",
    "import time\n",
    "import geocoder\n",
    "import os"
   ]
  },
  {
   "cell_type": "code",
   "execution_count": 5,
   "id": "8bbbfc1b",
   "metadata": {},
   "outputs": [],
   "source": [
    "#reading label name from obj.names file\n",
    "class_name = []\n",
    "with open(os.path.join(\"project_files\",'obj.names'), 'r') as f:\n",
    "    class_name = [cname.strip() for cname in f.readlines()]"
   ]
  },
  {
   "cell_type": "code",
   "execution_count": 6,
   "id": "96650532",
   "metadata": {},
   "outputs": [],
   "source": [
    "#importing model weights and config file\n",
    "#defining the model parameters\n",
    "net1 = cv.dnn.readNet('project_files/yolov4_tiny.weights', 'project_files/yolov4_tiny.cfg')\n",
    "net1.setPreferableBackend(cv.dnn.DNN_BACKEND_CUDA)\n",
    "net1.setPreferableTarget(cv.dnn.DNN_TARGET_CUDA_FP16)\n",
    "model1 = cv.dnn_DetectionModel(net1)\n",
    "model1.setInputParams(size=(640, 480), scale=1/255, swapRB=True)"
   ]
  },
  {
   "cell_type": "code",
   "execution_count": 7,
   "id": "752a76f7",
   "metadata": {},
   "outputs": [],
   "source": [
    "#defining the video source (0 for camera or file name for video)\n",
    "cap = cv.VideoCapture(\"test.mp4\") "
   ]
  },
  {
   "cell_type": "code",
   "execution_count": 8,
   "id": "1b861a29",
   "metadata": {},
   "outputs": [],
   "source": [
    "#defining the video source (0 for camera or file name for video)\n",
    "#cap = cv.VideoCapture(0) \n",
    "width  = cap.get(3)\n",
    "height = cap.get(4)\n",
    "result = cv.VideoWriter('result.avi', \n",
    "                         cv.VideoWriter_fourcc(*'MJPG'),\n",
    "                         10,(int(width),int(height)))\n"
   ]
  },
  {
   "cell_type": "code",
   "execution_count": 9,
   "id": "a2687ab7",
   "metadata": {},
   "outputs": [],
   "source": [
    "#defining parameters for result saving and get coordinates\n",
    "#defining initial values for some parameters in the script\n",
    "g = geocoder.ip('me')\n",
    "result_path = \"pothole_coordinates\"\n",
    "starting_time = time.time()\n",
    "Conf_threshold = 0.5\n",
    "NMS_threshold = 0.4\n",
    "frame_counter = 0\n",
    "i = 0\n",
    "b = 0"
   ]
  },
  {
   "cell_type": "code",
   "execution_count": 10,
   "id": "9408f6f4",
   "metadata": {},
   "outputs": [],
   "source": [
    "pothole_scores=[]\n",
    "file_list=[]\n",
    "location=[]\n",
    "#detection loop\n",
    "while True:\n",
    "    ret, frame = cap.read()\n",
    "    frame_counter += 1\n",
    "    if ret == False:\n",
    "        break\n",
    "    #analysis the stream with detection model\n",
    "    classes, scores, boxes = model1.detect(frame, Conf_threshold, NMS_threshold)\n",
    "    for (classid, score, box) in zip(classes, scores, boxes):\n",
    "        label = \"pothole\"\n",
    "        x, y, w, h = box\n",
    "        recarea = w*h\n",
    "        area = width*height\n",
    "        #drawing detection boxes on frame for detected potholes and saving coordinates txt and photo\n",
    "        if(len(scores)!=0 and scores[0]>=0.7):\n",
    "            if((recarea/area)<=0.1 and box[1]<600):\n",
    "                cv.rectangle(frame, (x, y), (x + w, y + h), (0,255,0), 1)\n",
    "                cv.putText(frame, \"%\" + str(round(scores[0]*100,2)) + \" \" + label, (box[0], box[1]-10),cv.FONT_HERSHEY_COMPLEX, 0.5, (255,0,0), 1)\n",
    "                if(i==0):\n",
    "                    pothole_scores.append(scores[0])\n",
    "                    cv.imwrite(os.path.join(result_path,'pothole'+str(i)+'.jpg'), frame)\n",
    "                    file_list.append('pothole'+str(i)+'.jpg')\n",
    "                    with open(os.path.join(result_path,'pothole'+str(i)+'.txt'), 'w') as f:\n",
    "                        f.write(str(g.latlng))\n",
    "                        location.append(g.latlng)\n",
    "                        i=i+1\n",
    "                if(i!=0):\n",
    "                    if((time.time()-b)>=2):\n",
    "                        pothole_scores.append(scores[0])\n",
    "                        cv.imwrite(os.path.join(result_path,'pothole'+str(i)+'.jpg'), frame)\n",
    "                        file_list.append('pothole'+str(i)+'.jpg')\n",
    "                        with open(os.path.join(result_path,'pothole'+str(i)+'.txt'), 'w') as f:\n",
    "                            f.write(str(g.latlng))\n",
    "                            location.append(g.latlng)\n",
    "                            b = time.time()\n",
    "                            i = i+1\n",
    "    #writing fps on frame\n",
    "    endingTime = time.time() - starting_time\n",
    "    fps = frame_counter/endingTime\n",
    "    cv.putText(frame, f'FPS: {fps}', (20, 50),\n",
    "               cv.FONT_HERSHEY_COMPLEX, 0.7, (0, 255, 0), 2)\n",
    "    #showing and saving result\n",
    "    cv.imshow('frame', frame)\n",
    "    result.write(frame)\n",
    "    key = cv.waitKey(1)\n",
    "    if key == ord('q'):\n",
    "        break\n",
    "#end\n",
    "cv.destroyAllWindows()\n",
    "cap.release()\n",
    "result.release()"
   ]
  },
  {
   "cell_type": "code",
   "execution_count": 11,
   "id": "b068764d",
   "metadata": {},
   "outputs": [
    {
     "name": "stdout",
     "output_type": "stream",
     "text": [
      "pothole0.jpg, pothole1.jpg, pothole2.jpg, pothole3.jpg, pothole4.jpg, pothole5.jpg, pothole6.jpg, pothole7.jpg, pothole8.jpg, pothole9.jpg, pothole10.jpg, pothole11.jpg, pothole12.jpg\n"
     ]
    }
   ],
   "source": [
    "print(*file_list, sep = \", \") "
   ]
  },
  {
   "cell_type": "code",
   "execution_count": 12,
   "id": "625c1d1c",
   "metadata": {},
   "outputs": [
    {
     "name": "stdout",
     "output_type": "stream",
     "text": [
      "0.82108444, 0.82108444, 0.8481602, 0.8277846, 0.7001757, 0.90311116, 0.94473284, 0.9340939, 0.86474365, 0.7750769, 0.7363681, 0.7597128, 0.87666\n"
     ]
    }
   ],
   "source": [
    "print(*pothole_scores, sep = \", \") "
   ]
  },
  {
   "cell_type": "code",
   "execution_count": 13,
   "id": "65c39aeb",
   "metadata": {},
   "outputs": [
    {
     "name": "stdout",
     "output_type": "stream",
     "text": [
      "[13.0878, 80.2785], [13.0878, 80.2785], [13.0878, 80.2785], [13.0878, 80.2785], [13.0878, 80.2785], [13.0878, 80.2785], [13.0878, 80.2785], [13.0878, 80.2785], [13.0878, 80.2785], [13.0878, 80.2785], [13.0878, 80.2785], [13.0878, 80.2785], [13.0878, 80.2785]\n"
     ]
    }
   ],
   "source": [
    "print(*location, sep = \", \") "
   ]
  },
  {
   "cell_type": "code",
   "execution_count": 14,
   "id": "2fd6d28e",
   "metadata": {},
   "outputs": [
    {
     "name": "stdout",
     "output_type": "stream",
     "text": [
      "13\n"
     ]
    }
   ],
   "source": [
    "file_list_len = len(file_list)\n",
    "print(file_list_len)"
   ]
  },
  {
   "cell_type": "code",
   "execution_count": 15,
   "id": "e64f41a0",
   "metadata": {},
   "outputs": [
    {
     "name": "stdout",
     "output_type": "stream",
     "text": [
      "13\n"
     ]
    }
   ],
   "source": [
    "pothole_num = len(pothole_scores)\n",
    "print(pothole_num)"
   ]
  },
  {
   "cell_type": "code",
   "execution_count": 16,
   "id": "ca0ed307",
   "metadata": {},
   "outputs": [
    {
     "name": "stdout",
     "output_type": "stream",
     "text": [
      "All records inserted successfully !\n"
     ]
    }
   ],
   "source": [
    "wBook = openpyxl.load_workbook('mydata.xlsx')\n",
    "sheet = wBook.active\n",
    "for i in range(0,len(file_list)):\n",
    "    data = [file_list[i], pothole_scores[i], location[0][0],location[0][1]]\n",
    "    sheet.append(data)\n",
    "    wBook.save('mydata.xlsx')\n",
    "print('All records inserted successfully !')"
   ]
  },
  {
   "cell_type": "code",
   "execution_count": 22,
   "id": "413d0e04",
   "metadata": {},
   "outputs": [
    {
     "data": {
      "text/plain": [
       "(221,\n",
       " b'2.0.0 closing connection p5-20020a170902bd0500b001b8af7f632asm4010150pls.176 - gsmtp')"
      ]
     },
     "execution_count": 22,
     "metadata": {},
     "output_type": "execute_result"
    }
   ],
   "source": [
    "fromaddr = \"arvinthus2410@gmail.com\"\n",
    "toaddr = \"arvinth33gobi@gmail.com\"\n",
    "\n",
    "# instance of MIMEMultipart\n",
    "msg = MIMEMultipart()\n",
    "\n",
    "# storing the senders email address\n",
    "msg['From'] = fromaddr\n",
    "\n",
    "# storing the receivers email address\n",
    "msg['To'] = toaddr\n",
    "\n",
    "# storing the subject\n",
    "msg['Subject'] = \"Mail - pothole detected reg.\"\n",
    "\n",
    "body=\"Body of the mail\"\n",
    "\n",
    "# attach the body with the msg instance\n",
    "msg.attach(MIMEText(body, 'plain'))\n",
    "\n",
    "# open the file to be sent\n",
    "filename = \"pothole_report.xlsx\"\n",
    "attachment = open(\"C:/Users/arvin/Downloads/pothole/pathhole/mydata.xlsx\", 'rb')\n",
    "\n",
    "#     # instance of MIMEBase and named as p\n",
    "p = MIMEBase('application', 'octet-stream')\n",
    "\n",
    "#     # To change the payload into encoded form\n",
    "p.set_payload((attachment).read())\n",
    "\n",
    "#     # encode into base64\n",
    "encoders.encode_base64(p)\n",
    "\n",
    "p.add_header('Content-Disposition', \"attachment; filename= %s\" % filename)\n",
    "\n",
    "#     # attach the instance 'p' to instance 'msg'\n",
    "msg.attach(p)\n",
    "\n",
    "dir_path = \"C:/Users/arvin/Downloads/pothole/pathhole/pothole_coordinates\"\n",
    "for f in file_list:  # add files to the message\n",
    "        file_path = os.path.join(dir_path, f)\n",
    "        attachment = MIMEApplication(open(file_path, \"rb\").read(), _subtype=\"txt\")\n",
    "        attachment.add_header('Content-Disposition','attachment', filename=f)\n",
    "        msg.attach(attachment)\n",
    "\n",
    "\n",
    "# creates SMTP session\n",
    "s = smtplib.SMTP('smtp.gmail.com', 587)\n",
    "\n",
    "# start TLS for security\n",
    "s.starttls()\n",
    "\n",
    "# Authentication\n",
    "s.login(fromaddr, \"hlgh lgqa hrwg biwx\")\n",
    "\n",
    "# Converts the Multipart msg into a string\n",
    "text = msg.as_string()\n",
    "\n",
    "# sending the mail\n",
    "s.sendmail(fromaddr, toaddr, text)\n",
    "\n",
    "# terminating the session\n",
    "s.quit()\n"
   ]
  },
  {
   "cell_type": "code",
   "execution_count": null,
   "id": "7bd540ef",
   "metadata": {},
   "outputs": [],
   "source": []
  }
 ],
 "metadata": {
  "kernelspec": {
   "display_name": "Python 3 (ipykernel)",
   "language": "python",
   "name": "python3"
  },
  "language_info": {
   "codemirror_mode": {
    "name": "ipython",
    "version": 3
   },
   "file_extension": ".py",
   "mimetype": "text/x-python",
   "name": "python",
   "nbconvert_exporter": "python",
   "pygments_lexer": "ipython3",
   "version": "3.10.9"
  }
 },
 "nbformat": 4,
 "nbformat_minor": 5
}
